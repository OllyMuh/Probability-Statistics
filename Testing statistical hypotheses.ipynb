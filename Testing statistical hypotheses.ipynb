{
  "nbformat": 4,
  "nbformat_minor": 0,
  "metadata": {
    "colab": {
      "provenance": [],
      "authorship_tag": "ABX9TyMNmDQawwmehYFFEMVLymap",
      "include_colab_link": true
    },
    "kernelspec": {
      "name": "python3",
      "display_name": "Python 3"
    },
    "language_info": {
      "name": "python"
    }
  },
  "cells": [
    {
      "cell_type": "markdown",
      "metadata": {
        "id": "view-in-github",
        "colab_type": "text"
      },
      "source": [
        "<a href=\"https://colab.research.google.com/github/OllyMuh/Probability-Statistics/blob/main/Testing%20statistical%20hypotheses.ipynb\" target=\"_parent\"><img src=\"https://colab.research.google.com/assets/colab-badge.svg\" alt=\"Open In Colab\"/></a>"
      ]
    },
    {
      "cell_type": "code",
      "source": [
        "import numpy as np"
      ],
      "metadata": {
        "id": "1UKJ6C_TfhCq"
      },
      "execution_count": null,
      "outputs": []
    },
    {
      "cell_type": "markdown",
      "source": [
        "Этапы проверки гипотез:\n",
        "\n",
        "1. Сформулировать основную и альтернативную гипотезы.\n",
        "2. Выбрать статистический критерий, по которому будет проводиться проверка.\n",
        "3. Задать уровень значимости α, или вероятность, с которой будет выполняться данная гипотеза\n",
        "4. Определить границы области гипотезы.\n",
        "5. Подвести итоги и сформулировать вывод."
      ],
      "metadata": {
        "id": "9sXISMc8RqbZ"
      }
    },
    {
      "cell_type": "markdown",
      "source": [
        "# Задача 1\n",
        "Утверждается, что шарики для подшипников, изготовленные автоматическим станком, имеют средний диаметр — 17 мм. Используя уровень значимости 0.025 и правостороннюю критическую область, проверьте эту гипотезу при условии, что в выборке из 100 шариков средний диаметр оказался равным 17.5 мм, а дисперсия известна и равна 4 мм."
      ],
      "metadata": {
        "id": "uevmK_ViQuWx"
      }
    },
    {
      "cell_type": "code",
      "source": [
        "# нулевая гипотеза\n",
        "diametr_0 = 17\n",
        "# альтернативная гипотеза\n",
        "diametr_alt = 17.5\n",
        "\n",
        "a = 0.025       # уровень значимости\n",
        "n = 100         # размер выборки\n",
        "disp = 4        # дисперсия"
      ],
      "metadata": {
        "id": "YSeX7hQ2YiVt"
      },
      "execution_count": null,
      "outputs": []
    },
    {
      "cell_type": "code",
      "source": [
        "# вычисляем значение t-критерия для альтернативной гипотезы\n",
        "a_alt = ((diametr_alt - diametr_0) / (np.sqrt(disp))) * np.sqrt(100)\n",
        "a_alt"
      ],
      "metadata": {
        "colab": {
          "base_uri": "https://localhost:8080/"
        },
        "id": "dH1oAy_8aNgs",
        "outputId": "d69293e5-77ae-4d47-8c07-dd9d0590165d"
      },
      "execution_count": null,
      "outputs": [
        {
          "output_type": "execute_result",
          "data": {
            "text/plain": [
              "2.5"
            ]
          },
          "metadata": {},
          "execution_count": 7
        }
      ]
    },
    {
      "cell_type": "code",
      "source": [
        "# значение критерия х для вероятности 0,975  = 1,96 (по таблице)"
      ],
      "metadata": {
        "id": "bdHl3N6LjAxo"
      },
      "execution_count": null,
      "outputs": []
    },
    {
      "cell_type": "markdown",
      "source": [
        "# Ответ:\n",
        "\n",
        "В связи с тем, область правосторонняя, и значение критерия попадает в правостороннюю область принятия гипотезы 1,96 < 2,5, отвергаем нулевую гипотезу"
      ],
      "metadata": {
        "id": "niNwTr_ekPi4"
      }
    },
    {
      "cell_type": "markdown",
      "source": [
        "# Задача 2\n",
        "Известно, что генеральная совокупность распределена нормально с известным средним квадратическим отклонением — 16. Найдите доверительный интервал для оценки математического ожидания с надёжностью 0.95, если выборочное среднее равно 80, а объём равен 256."
      ],
      "metadata": {
        "id": "68WpqJaXQ1oi"
      }
    },
    {
      "cell_type": "markdown",
      "source": [
        "$$T_{1,2} = \\overline{X} \\pm \\frac{s_0}{\\sqrt{n}} \\cdot c_{\\gamma}$$"
      ],
      "metadata": {
        "id": "FvexdgLimy2I"
      }
    },
    {
      "cell_type": "markdown",
      "source": [
        "где $T_1$, $T_2$ — нижняя и верхняя границы доверительного интервала,\n",
        "\n",
        "$\\overline{X}$  — выборочное среднее арифметическое, $s_0$ — среднее квадратичное отклонение по выборке (несмещенное),\n",
        "\n",
        "$n$ — размер выборки,\n",
        "\n",
        "$\\gamma$ — доверительная вероятность."
      ],
      "metadata": {
        "id": "YijeEimem4_q"
      }
    },
    {
      "cell_type": "markdown",
      "source": [
        "$c_{\\gamma} = Ф^{-1} \\frac{(1 + \\gamma)}{2}$ — обратное значение функции стандартного нормального распределения."
      ],
      "metadata": {
        "id": "lxtH_YYmpAOU"
      }
    },
    {
      "cell_type": "code",
      "source": [
        "# найдем обратное значение функции стандартного нормального распределения для var_ = 0.95 \n",
        "f = 1.96"
      ],
      "metadata": {
        "id": "9ZiF6rqxpkiK"
      },
      "execution_count": null,
      "outputs": []
    },
    {
      "cell_type": "code",
      "source": [
        "mean_ = 80\n",
        "n = 256\n",
        "std_ = 16"
      ],
      "metadata": {
        "id": "tJNQJk-KmyhV"
      },
      "execution_count": null,
      "outputs": []
    },
    {
      "cell_type": "code",
      "source": [
        "T1 = mean_ - ((std_ / np.sqrt(n)) * f)\n",
        "T1"
      ],
      "metadata": {
        "colab": {
          "base_uri": "https://localhost:8080/"
        },
        "id": "pKoDJ9Khoczo",
        "outputId": "65f597df-5316-42ad-fefa-655983f5d0ae"
      },
      "execution_count": null,
      "outputs": [
        {
          "output_type": "execute_result",
          "data": {
            "text/plain": [
              "78.04"
            ]
          },
          "metadata": {},
          "execution_count": 21
        }
      ]
    },
    {
      "cell_type": "code",
      "source": [
        "T2 = mean_ + ((std_ / np.sqrt(n)) * f)\n",
        "T2"
      ],
      "metadata": {
        "colab": {
          "base_uri": "https://localhost:8080/"
        },
        "id": "0ChA_wrQrft0",
        "outputId": "a8171636-8b4a-4d9c-bce9-d6cb32358b9e"
      },
      "execution_count": null,
      "outputs": [
        {
          "output_type": "execute_result",
          "data": {
            "text/plain": [
              "81.96"
            ]
          },
          "metadata": {},
          "execution_count": 22
        }
      ]
    },
    {
      "cell_type": "markdown",
      "source": [
        "# Ответ:\n",
        "\n",
        "доверительный интервал в границах от 78,04 до 81,96"
      ],
      "metadata": {
        "id": "gFBLGTvJrqQV"
      }
    },
    {
      "cell_type": "code",
      "source": [],
      "metadata": {
        "id": "CGgYxDrGr211"
      },
      "execution_count": null,
      "outputs": []
    },
    {
      "cell_type": "markdown",
      "source": [
        "# Задача 3\n",
        "Продавец утверждает, что средний вес пачки печенья составляет 200 г. Из партии извлечена выборка из 10 пачек. Вес каждой пачки составляет:\n",
        "202, 203, 199, 197, 195, 201, 200, 204, 194, 190\n",
        "Известно, что их веса распределены нормально. Верно ли утверждение продавца, если учитывать, что уровень значимости равен 1%?"
      ],
      "metadata": {
        "id": "JOg0TkMAQ6in"
      }
    },
    {
      "cell_type": "code",
      "execution_count": null,
      "metadata": {
        "colab": {
          "base_uri": "https://localhost:8080/"
        },
        "id": "bBQEFIu1Qkhp",
        "outputId": "2e652cd3-4287-4677-acbc-7c77655d9a44"
      },
      "outputs": [
        {
          "output_type": "execute_result",
          "data": {
            "text/plain": [
              "array([202, 203, 199, 197, 195, 201, 200, 204, 194, 190])"
            ]
          },
          "metadata": {},
          "execution_count": 23
        }
      ],
      "source": [
        "sample = np.array([202, 203, 199, 197, 195, 201, 200, 204, 194, 190])\n",
        "sample"
      ]
    },
    {
      "cell_type": "code",
      "source": [
        "# найдем среднее\n",
        "a = sample.mean()\n",
        "a"
      ],
      "metadata": {
        "colab": {
          "base_uri": "https://localhost:8080/"
        },
        "id": "kTIskSHq3e29",
        "outputId": "4b5e0619-3a4e-4901-b85f-8ffe5fd83c78"
      },
      "execution_count": null,
      "outputs": [
        {
          "output_type": "execute_result",
          "data": {
            "text/plain": [
              "198.5"
            ]
          },
          "metadata": {},
          "execution_count": 26
        }
      ]
    },
    {
      "cell_type": "code",
      "source": [
        "# среднеквадратичное отклонение\n",
        "s = sample.std()\n",
        "s"
      ],
      "metadata": {
        "colab": {
          "base_uri": "https://localhost:8080/"
        },
        "id": "ath_HNnc4NwQ",
        "outputId": "38438591-917e-4fe3-94d3-8f7ae327e5bd"
      },
      "execution_count": null,
      "outputs": [
        {
          "output_type": "execute_result",
          "data": {
            "text/plain": [
              "4.224926034855522"
            ]
          },
          "metadata": {},
          "execution_count": 35
        }
      ]
    },
    {
      "cell_type": "code",
      "source": [
        "# нулевая гипотеза\n",
        "mean_0 = 200\n",
        "\n",
        "n = 9"
      ],
      "metadata": {
        "id": "1mcjIh9U4f8Y"
      },
      "execution_count": null,
      "outputs": []
    },
    {
      "cell_type": "code",
      "source": [
        "# вычисляем наблюдаемое значение критерия\n",
        "t = ((a - mean_0) / s) * np.sqrt(n)\n",
        "t"
      ],
      "metadata": {
        "colab": {
          "base_uri": "https://localhost:8080/"
        },
        "id": "lkW4Hd6I40E7",
        "outputId": "5dc8b4e2-af1d-4144-d70c-8f8a5c52273d"
      },
      "execution_count": null,
      "outputs": [
        {
          "output_type": "execute_result",
          "data": {
            "text/plain": [
              "-1.1227217828476797"
            ]
          },
          "metadata": {},
          "execution_count": 33
        }
      ]
    },
    {
      "cell_type": "code",
      "source": [
        "# найдем критическую точку по уровню значимости 0,01 и числу степеней свободы n = 9\n",
        "t_cr = 2.821"
      ],
      "metadata": {
        "id": "WBT0vS1E5Z22"
      },
      "execution_count": null,
      "outputs": []
    },
    {
      "cell_type": "markdown",
      "source": [
        "# Ответ:\n",
        "\n",
        "Так как вычисленное значение критерия меньше критической точки, нулевую гипотезу о том, что средний вес 200 г, можно принять"
      ],
      "metadata": {
        "id": "1zaciCPg6623"
      }
    }
  ]
}