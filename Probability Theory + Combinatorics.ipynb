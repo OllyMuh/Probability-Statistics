{
  "nbformat": 4,
  "nbformat_minor": 0,
  "metadata": {
    "colab": {
      "provenance": [],
      "mount_file_id": "1NstH6enVmGTGwoPY11e-DwIDSurB2qSb",
      "authorship_tag": "ABX9TyOpc9pe757qT1X701l1eqZH",
      "include_colab_link": true
    },
    "kernelspec": {
      "name": "python3",
      "display_name": "Python 3"
    },
    "language_info": {
      "name": "python"
    }
  },
  "cells": [
    {
      "cell_type": "markdown",
      "metadata": {
        "id": "view-in-github",
        "colab_type": "text"
      },
      "source": [
        "<a href=\"https://colab.research.google.com/github/OllyMuh/Probability-Statistics/blob/main/Probability%20Theory%20%2B%20Combinatorics.ipynb\" target=\"_parent\"><img src=\"https://colab.research.google.com/assets/colab-badge.svg\" alt=\"Open In Colab\"/></a>"
      ]
    },
    {
      "cell_type": "markdown",
      "source": [
        "# ДЗ Теория вероятности, комбинаторика 06.09.2022"
      ],
      "metadata": {
        "id": "DqOyxJwqu4l8"
      }
    },
    {
      "cell_type": "code",
      "execution_count": null,
      "metadata": {
        "id": "28CrTsiUuw6V"
      },
      "outputs": [],
      "source": [
        "from math import factorial"
      ]
    },
    {
      "cell_type": "code",
      "source": [
        "# Число сочетаний из n элементов по k элементов в каждом (в сочетаниях порядок не важен):\n",
        "def combinations(n, k):\n",
        "    return int(factorial(n) / (factorial(k) * factorial(n - k)))"
      ],
      "metadata": {
        "id": "lgEV5uKKwEl0"
      },
      "execution_count": null,
      "outputs": []
    },
    {
      "cell_type": "code",
      "source": [
        "# Определим число размещений из n элементов по k элементов в каждом. \n",
        "#При размещениях порядок важен, поэтому вариантов размещения может быть больше, чем сочетаний при заданных k и n.\n",
        "def arrangements(n, k):\n",
        "    return int(factorial(n) / factorial(n - k))"
      ],
      "metadata": {
        "id": "U2B27I2KzBwd"
      },
      "execution_count": null,
      "outputs": []
    },
    {
      "cell_type": "code",
      "source": [
        "#Число перестановок из n элементов — при перестановках важен порядок, но отличие от размещений в том, что применяются все имеющиеся n элементов:\n",
        "\n",
        "def permutations(n):\n",
        "    return int(factorial(n))"
      ],
      "metadata": {
        "id": "SoAQZChWzOLn"
      },
      "execution_count": null,
      "outputs": []
    },
    {
      "cell_type": "markdown",
      "source": [
        "# Задача 1\n",
        "\n",
        "Группа студентов изучает 10 различных дисциплин. Сколькими способами можно составить расписание на понедельник, если в этот день должно быть 4 разных занятия?"
      ],
      "metadata": {
        "id": "tMNCmZezvFdd"
      }
    },
    {
      "cell_type": "markdown",
      "source": [
        "Число сочетаний из n элементов по k элементов в каждом (в сочетаниях порядок не важен):"
      ],
      "metadata": {
        "id": "r9I0u4H-vda0"
      }
    },
    {
      "cell_type": "code",
      "source": [
        "combinations(10, 4)"
      ],
      "metadata": {
        "colab": {
          "base_uri": "https://localhost:8080/"
        },
        "id": "gWHXMFiUwJOw",
        "outputId": "889e70a6-206a-4d4b-f17c-1c0952c2ea0e"
      },
      "execution_count": null,
      "outputs": [
        {
          "output_type": "execute_result",
          "data": {
            "text/plain": [
              "210"
            ]
          },
          "metadata": {},
          "execution_count": 3
        }
      ]
    },
    {
      "cell_type": "markdown",
      "source": [
        "Ответ: 210 способов"
      ],
      "metadata": {
        "id": "EIATamMywQSu"
      }
    },
    {
      "cell_type": "markdown",
      "source": [
        "# Задача 2\n",
        "\n",
        "Из колоды в 52 карты вынимают случайным образом 4 карты. Найдите число исходов, соответствующих тому, что был вытянут хотя бы один туз."
      ],
      "metadata": {
        "id": "XD57XSBvwghQ"
      }
    },
    {
      "cell_type": "markdown",
      "source": [
        "1. Один туз из четырех тузов"
      ],
      "metadata": {
        "id": "YtDsaDjdwkM6"
      }
    },
    {
      "cell_type": "code",
      "source": [
        "combinations(4, 1)"
      ],
      "metadata": {
        "colab": {
          "base_uri": "https://localhost:8080/"
        },
        "id": "XglNe23Fz-aY",
        "outputId": "1060d05e-622d-4828-fe7a-4de15656ced3"
      },
      "execution_count": null,
      "outputs": [
        {
          "output_type": "execute_result",
          "data": {
            "text/plain": [
              "4"
            ]
          },
          "metadata": {},
          "execution_count": 6
        }
      ]
    },
    {
      "cell_type": "markdown",
      "source": [
        "2. Три карты (оставшиеся) из остальных 52 карт"
      ],
      "metadata": {
        "id": "-xf8RcY40FhA"
      }
    },
    {
      "cell_type": "code",
      "source": [
        "combinations(52, 3)"
      ],
      "metadata": {
        "colab": {
          "base_uri": "https://localhost:8080/"
        },
        "id": "UDOPM61r0Sa8",
        "outputId": "ff1b7f3b-ca9f-41e9-e4a6-2c476dc698ef"
      },
      "execution_count": null,
      "outputs": [
        {
          "output_type": "execute_result",
          "data": {
            "text/plain": [
              "22100"
            ]
          },
          "metadata": {},
          "execution_count": 5
        }
      ]
    },
    {
      "cell_type": "markdown",
      "source": [
        "3. В этом случае будет такое число сочетаний, когда из колоды, в которой 52 карты, выбраны четыре, одна из которых — туз:"
      ],
      "metadata": {
        "id": "YTfkl7XH09bh"
      }
    },
    {
      "cell_type": "code",
      "source": [
        "combinations(52, 3) * combinations(4, 1)"
      ],
      "metadata": {
        "colab": {
          "base_uri": "https://localhost:8080/"
        },
        "id": "ZHvK1Sqi1IAD",
        "outputId": "06038b91-378f-4759-b95b-400aa1595645"
      },
      "execution_count": null,
      "outputs": [
        {
          "output_type": "execute_result",
          "data": {
            "text/plain": [
              "88400"
            ]
          },
          "metadata": {},
          "execution_count": 8
        }
      ]
    },
    {
      "cell_type": "markdown",
      "source": [
        "# Задача 3\n",
        "\n",
        "Семь человек рассаживаются наудачу на скамейке. Какова вероятность того, что два определённых человека будут сидеть рядом?"
      ],
      "metadata": {
        "id": "i8KjlBMu1WHJ"
      }
    },
    {
      "cell_type": "markdown",
      "source": [
        "Всего пар соседей - 6 * Каждая пара человек может сесть двумя способами * Все остальные 5 любыми, то есть 5! способами.\n",
        "/\n",
        "Рассадить всех можно 7! способами"
      ],
      "metadata": {
        "id": "dZKCtQ3k3wN2"
      }
    },
    {
      "cell_type": "code",
      "source": [
        "6*2*factorial(5) / factorial(7)"
      ],
      "metadata": {
        "colab": {
          "base_uri": "https://localhost:8080/"
        },
        "id": "smDvQRGm15bE",
        "outputId": "7d75ca86-6099-4777-9068-559703df3b77"
      },
      "execution_count": null,
      "outputs": [
        {
          "output_type": "execute_result",
          "data": {
            "text/plain": [
              "0.2857142857142857"
            ]
          },
          "metadata": {},
          "execution_count": 10
        }
      ]
    },
    {
      "cell_type": "markdown",
      "source": [
        "# Задача 4\n",
        "\n",
        "Из 60 вопросов, входящих в экзаменационные билеты, студент знает 50. Какова вероятность того, что среди трёх наугад выбранных вопросов студент знает:\n",
        "Все.\n",
        "Два."
      ],
      "metadata": {
        "id": "-lRMgwiG1fcI"
      }
    },
    {
      "cell_type": "markdown",
      "source": [
        "Формула определения вероятности p = m / n\n",
        "\n",
        "n - число всех равновозможных исходов, студент выбрал любую тройку вопросов, будем считать, что билеты будут разными, если они отличаются вопросами, а порядок вопросов в билете не учитывается (3 из 60)."
      ],
      "metadata": {
        "id": "0aNrQmzl5Kf_"
      }
    },
    {
      "cell_type": "code",
      "source": [
        "n = combinations(60, 3)\n",
        "n"
      ],
      "metadata": {
        "colab": {
          "base_uri": "https://localhost:8080/"
        },
        "id": "GyLr6Kp75Qts",
        "outputId": "2cdc611f-b70f-42cf-d8e5-2e3145787f60"
      },
      "execution_count": null,
      "outputs": [
        {
          "output_type": "execute_result",
          "data": {
            "text/plain": [
              "34220"
            ]
          },
          "metadata": {},
          "execution_count": 11
        }
      ]
    },
    {
      "cell_type": "markdown",
      "source": [
        "1. Студент знает все 3 вопроса"
      ],
      "metadata": {
        "id": "Kp5QD0TB66Sz"
      }
    },
    {
      "cell_type": "markdown",
      "source": [
        "m  - число элементарных исходов, благоприятствующих событию (3 из 50)"
      ],
      "metadata": {
        "id": "ce2bs7sJ56zt"
      }
    },
    {
      "cell_type": "code",
      "source": [
        "m = combinations(50, 3)\n",
        "m"
      ],
      "metadata": {
        "colab": {
          "base_uri": "https://localhost:8080/"
        },
        "id": "sOttroCo5gXr",
        "outputId": "d5bfdd95-f28d-4eef-bbd0-0795dd7bbdb2"
      },
      "execution_count": null,
      "outputs": [
        {
          "output_type": "execute_result",
          "data": {
            "text/plain": [
              "19600"
            ]
          },
          "metadata": {},
          "execution_count": 12
        }
      ]
    },
    {
      "cell_type": "code",
      "source": [
        "p = m/ n\n",
        "p"
      ],
      "metadata": {
        "colab": {
          "base_uri": "https://localhost:8080/"
        },
        "id": "Kh2-2Y9G6Sgz",
        "outputId": "5b2bade2-05d5-48c2-dc9a-e0f5a2d4f290"
      },
      "execution_count": null,
      "outputs": [
        {
          "output_type": "execute_result",
          "data": {
            "text/plain": [
              "0.5727644652250146"
            ]
          },
          "metadata": {},
          "execution_count": 14
        }
      ]
    },
    {
      "cell_type": "markdown",
      "source": [
        "2. Студент знает 2 вопроса и 1 не знает"
      ],
      "metadata": {
        "id": "QdCl2wc_6jQ8"
      }
    },
    {
      "cell_type": "code",
      "source": [
        "m1 = combinations(50, 2)\n",
        "m2 = combinations(10, 1)\n",
        "m_2 = m1 * m2\n",
        "m_2"
      ],
      "metadata": {
        "colab": {
          "base_uri": "https://localhost:8080/"
        },
        "id": "gaWGQCIl7M7R",
        "outputId": "12650c5e-44dc-40ab-bdc4-1a18d2571279"
      },
      "execution_count": null,
      "outputs": [
        {
          "output_type": "execute_result",
          "data": {
            "text/plain": [
              "12250"
            ]
          },
          "metadata": {},
          "execution_count": 20
        }
      ]
    },
    {
      "cell_type": "code",
      "source": [
        "p = m_2 / n\n",
        "p"
      ],
      "metadata": {
        "colab": {
          "base_uri": "https://localhost:8080/"
        },
        "id": "LcNQu1nC7wJr",
        "outputId": "283b69d5-b2df-453c-bf5a-012e07359a79"
      },
      "execution_count": null,
      "outputs": [
        {
          "output_type": "execute_result",
          "data": {
            "text/plain": [
              "0.35797779076563413"
            ]
          },
          "metadata": {},
          "execution_count": 22
        }
      ]
    },
    {
      "cell_type": "markdown",
      "source": [
        "# Задача 5\n",
        "\n",
        "Бросается игральная кость. Пусть событие A — появление чётного числа, событие B — появление числа больше трёх. Считаются ли эти события независимыми?"
      ],
      "metadata": {
        "id": "4yDB6CCd8Jz5"
      }
    },
    {
      "cell_type": "code",
      "source": [
        "# вероятность того, что выпало четное число больше 3 - ('4' или '6' из 6) и ('4' или '5' или '6' из 6)\n",
        "pab = 4/6 * 3 / 6\n",
        "pab"
      ],
      "metadata": {
        "colab": {
          "base_uri": "https://localhost:8080/"
        },
        "id": "3k9DIKiZ6grI",
        "outputId": "38373ac4-87d6-4778-ee2f-7712a86ac254"
      },
      "execution_count": null,
      "outputs": [
        {
          "output_type": "execute_result",
          "data": {
            "text/plain": [
              "0.3333333333333333"
            ]
          },
          "metadata": {},
          "execution_count": 1
        }
      ]
    },
    {
      "cell_type": "code",
      "source": [
        "# вероятность того,что выпало четное число (2 4 6)\n",
        "pa = 3 / 6\n",
        "pa"
      ],
      "metadata": {
        "colab": {
          "base_uri": "https://localhost:8080/"
        },
        "id": "WZ4JVNig7s5c",
        "outputId": "dc732a14-975a-4976-be79-4211ae1aa483"
      },
      "execution_count": null,
      "outputs": [
        {
          "output_type": "execute_result",
          "data": {
            "text/plain": [
              "0.5"
            ]
          },
          "metadata": {},
          "execution_count": 5
        }
      ]
    },
    {
      "cell_type": "code",
      "source": [
        "# вероятность того, что выпало число, больше 3 (4 5 6)\n",
        "pb = 3 / 6\n",
        "pb"
      ],
      "metadata": {
        "colab": {
          "base_uri": "https://localhost:8080/"
        },
        "id": "-xTUv31O73U8",
        "outputId": "890d748c-50a8-4a72-f16c-09ba0cfdfab9"
      },
      "execution_count": null,
      "outputs": [
        {
          "output_type": "execute_result",
          "data": {
            "text/plain": [
              "0.5"
            ]
          },
          "metadata": {},
          "execution_count": 3
        }
      ]
    },
    {
      "cell_type": "code",
      "source": [
        "# если проверка выполняется, то события независимы\n",
        "pab == pa * pb"
      ],
      "metadata": {
        "colab": {
          "base_uri": "https://localhost:8080/"
        },
        "id": "W-JAs3a68BQA",
        "outputId": "19e3555f-6235-4108-ffaf-0b12e55b1eb8"
      },
      "execution_count": null,
      "outputs": [
        {
          "output_type": "execute_result",
          "data": {
            "text/plain": [
              "False"
            ]
          },
          "metadata": {},
          "execution_count": 6
        }
      ]
    },
    {
      "cell_type": "markdown",
      "source": [
        "Ответ: cобытия зависимы"
      ],
      "metadata": {
        "id": "PUYYEmSv8VUt"
      }
    },
    {
      "cell_type": "markdown",
      "source": [
        "# Задача 6\n",
        "\n",
        "Допустим, есть некоторая очень редкая болезнь (поражает 0.1% населения). Вы приходите к врачу, вам делают тест на эту болезнь, и тест оказывается положительным. Врач говорит вам, что этот тест верно выявляет 99% больных этой болезнью и всего лишь в 1% случаев даёт ложный положительный ответ.\n",
        "Вопрос: какова вероятность, что вы действительно больны ей?\n",
        "Подсказка: вновь используйте формулу Байеса с раскрытием знаменателя, применив формулу полной вероятности."
      ],
      "metadata": {
        "id": "IqzAJz1T8j7w"
      }
    },
    {
      "cell_type": "code",
      "source": [
        "p_ill = 0.1 / 100\n",
        "p_ill"
      ],
      "metadata": {
        "colab": {
          "base_uri": "https://localhost:8080/"
        },
        "id": "Tw8Dil6T8p0P",
        "outputId": "361f1ee4-1463-4dcc-ebb7-c57b4ef4d322"
      },
      "execution_count": null,
      "outputs": [
        {
          "output_type": "execute_result",
          "data": {
            "text/plain": [
              "0.001"
            ]
          },
          "metadata": {},
          "execution_count": 23
        }
      ]
    },
    {
      "cell_type": "code",
      "source": [
        "p_healthy = 1 - p_ill\n",
        "p_healthy"
      ],
      "metadata": {
        "colab": {
          "base_uri": "https://localhost:8080/"
        },
        "id": "oYCZGp_uB9xX",
        "outputId": "4e83c235-c21a-4fd0-fde1-521917704958"
      },
      "execution_count": null,
      "outputs": [
        {
          "output_type": "execute_result",
          "data": {
            "text/plain": [
              "0.999"
            ]
          },
          "metadata": {},
          "execution_count": 24
        }
      ]
    },
    {
      "cell_type": "code",
      "source": [
        "p_test_false = 1 / 100\n",
        "p_test_false"
      ],
      "metadata": {
        "colab": {
          "base_uri": "https://localhost:8080/"
        },
        "id": "VlMvZaEfCLPM",
        "outputId": "f6ef890f-ba5c-4e28-fd21-01915236c9b4"
      },
      "execution_count": null,
      "outputs": [
        {
          "output_type": "execute_result",
          "data": {
            "text/plain": [
              "0.01"
            ]
          },
          "metadata": {},
          "execution_count": 38
        }
      ]
    },
    {
      "cell_type": "code",
      "source": [
        "p_test_ok = 1 - p_test_false\n",
        "p_test_ok"
      ],
      "metadata": {
        "colab": {
          "base_uri": "https://localhost:8080/"
        },
        "id": "xVg7wdriCXys",
        "outputId": "041d71ac-efc6-4749-9a53-ff42467cb92d"
      },
      "execution_count": null,
      "outputs": [
        {
          "output_type": "execute_result",
          "data": {
            "text/plain": [
              "0.99"
            ]
          },
          "metadata": {},
          "execution_count": 39
        }
      ]
    },
    {
      "cell_type": "markdown",
      "source": [
        "Вычислим полную вероятность признания больным:"
      ],
      "metadata": {
        "id": "gTjUfyKGCkLB"
      }
    },
    {
      "cell_type": "code",
      "source": [
        "p_full = p_test_false * p_healthy + p_test_ok * p_ill\n",
        "p_full"
      ],
      "metadata": {
        "colab": {
          "base_uri": "https://localhost:8080/"
        },
        "id": "fLEcfk8UCf-n",
        "outputId": "183a94f5-9d60-41fe-be5d-f084e16fc06f"
      },
      "execution_count": null,
      "outputs": [
        {
          "output_type": "execute_result",
          "data": {
            "text/plain": [
              "0.01098"
            ]
          },
          "metadata": {},
          "execution_count": 45
        }
      ]
    },
    {
      "cell_type": "markdown",
      "source": [
        "Вероятность, что человек болен при результате «болен»:"
      ],
      "metadata": {
        "id": "me-EWALDDvcu"
      }
    },
    {
      "cell_type": "code",
      "source": [
        "is_really_ill = p_test_ok * p_ill / p_full\n",
        "is_really_ill"
      ],
      "metadata": {
        "colab": {
          "base_uri": "https://localhost:8080/"
        },
        "id": "zglEAdLCDzCM",
        "outputId": "3133c1e4-87bc-4470-a1be-3a9626c1b751"
      },
      "execution_count": null,
      "outputs": [
        {
          "output_type": "execute_result",
          "data": {
            "text/plain": [
              "0.09016393442622951"
            ]
          },
          "metadata": {},
          "execution_count": 46
        }
      ]
    }
  ]
}