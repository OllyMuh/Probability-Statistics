{
  "nbformat": 4,
  "nbformat_minor": 0,
  "metadata": {
    "colab": {
      "provenance": [],
      "authorship_tag": "ABX9TyM9fK7f5LLBzP28/U0ldOOW",
      "include_colab_link": true
    },
    "kernelspec": {
      "name": "python3",
      "display_name": "Python 3"
    },
    "language_info": {
      "name": "python"
    }
  },
  "cells": [
    {
      "cell_type": "markdown",
      "metadata": {
        "id": "view-in-github",
        "colab_type": "text"
      },
      "source": [
        "<a href=\"https://colab.research.google.com/github/OllyMuh/Probability-Statistics/blob/main/Multivariate%20statistical%20analysis.%20Linear%20Regression.ipynb\" target=\"_parent\"><img src=\"https://colab.research.google.com/assets/colab-badge.svg\" alt=\"Open In Colab\"/></a>"
      ]
    },
    {
      "cell_type": "code",
      "source": [
        "import numpy as np\n",
        "import pandas as pd\n",
        "from scipy import stats\n",
        "from matplotlib import pyplot as plt"
      ],
      "metadata": {
        "id": "oqhtKM78u5Az"
      },
      "execution_count": null,
      "outputs": []
    },
    {
      "cell_type": "markdown",
      "source": [
        "# Задача 1\n",
        "\n",
        "Даны значения величины заработной платы заёмщиков банка (salary) и значения их поведенческого кредитного скоринга (scoring):\n",
        "\n",
        "salary = [35, 45, 190, 200, 40, 70, 54, 150, 120, 110]\n",
        "scoring = [401, 574, 874, 919, 459, 739, 653, 902, 746, 832]\n",
        "Возьмём в качестве признака значение salary, а в качестве целевой переменной — scoring.\n",
        "\n",
        "1. Найдите коэффициенты линейной регрессии, применив формулы для парной регрессии, а затем посредством метода наименьших квадратов.\n",
        "2. Постройте scatter plot по имеющимся данным и отметьте на нём прямую линейной регрессии, полученную в п. 1.\n",
        "3. Посчитайте коэффициент детерминации, среднюю ошибку аппроксимации.\n",
        "4. Оцените построенное уравнение регрессии по F-критерию Фишера.\n",
        "5. Оцените значимость получившихся параметров уравнения регрессии и постройте для них доверительные интервалы, воспользовавшись t-статистикой Стьюдента."
      ],
      "metadata": {
        "id": "XJZnT6kNurkH"
      }
    },
    {
      "cell_type": "code",
      "source": [
        "salary1 = [35, 45, 190, 200, 40, 70, 54, 150, 120, 110]\n",
        "scoring1 = [401, 574, 874, 919, 459, 739, 653, 902, 746, 832] # целевая переменная\n",
        "np_salary = np.array(salary1)\n",
        "np_scoring = np.array(scoring1)"
      ],
      "metadata": {
        "id": "iMdxzynkuyze"
      },
      "execution_count": null,
      "outputs": []
    },
    {
      "cell_type": "code",
      "source": [
        "b1 = (np.mean(np_salary * np_scoring) - np.mean(np_salary) * np.mean(np_scoring)) / (np.mean(np_salary ** 2) - np.mean(np_salary) ** 2)\n",
        "b1"
      ],
      "metadata": {
        "colab": {
          "base_uri": "https://localhost:8080/"
        },
        "id": "N5pWEm3HvXhC",
        "outputId": "1a3c1b73-39b4-4116-9fab-b8f06a56d05d"
      },
      "execution_count": null,
      "outputs": [
        {
          "output_type": "execute_result",
          "data": {
            "text/plain": [
              "2.620538882402765"
            ]
          },
          "metadata": {},
          "execution_count": 69
        }
      ]
    },
    {
      "cell_type": "code",
      "source": [
        "b0 = np.mean(np_scoring) - b1 * np.mean(np_salary)\n",
        "b0"
      ],
      "metadata": {
        "colab": {
          "base_uri": "https://localhost:8080/"
        },
        "id": "6tMf9hB6v9GS",
        "outputId": "5780edf0-7841-48ee-b770-8a4f69857215"
      },
      "execution_count": null,
      "outputs": [
        {
          "output_type": "execute_result",
          "data": {
            "text/plain": [
              "444.1773573243596"
            ]
          },
          "metadata": {},
          "execution_count": 70
        }
      ]
    },
    {
      "cell_type": "markdown",
      "source": [
        "Итак, модель линейной регрессии имеет вид:\n",
        "\n",
        "$$y = 444.18 + 2.62 \\cdot x,$$\n",
        "\n",
        "Визуализируем полученные результаты на графике:"
      ],
      "metadata": {
        "id": "nJFqCaMawFuo"
      }
    },
    {
      "cell_type": "code",
      "source": [
        "ox = np_salary\n",
        "oy = b0 + b1 * ox\n",
        "plt.scatter(np_salary, np_scoring)\n",
        "plt.plot(ox, oy, color='red')"
      ],
      "metadata": {
        "colab": {
          "base_uri": "https://localhost:8080/",
          "height": 283
        },
        "id": "KjiHfpoowY--",
        "outputId": "c7ddb02e-a463-48c6-c2ad-d3e759957b89"
      },
      "execution_count": null,
      "outputs": [
        {
          "output_type": "execute_result",
          "data": {
            "text/plain": [
              "[<matplotlib.lines.Line2D at 0x7fcd0ab71150>]"
            ]
          },
          "metadata": {},
          "execution_count": 71
        },
        {
          "output_type": "display_data",
          "data": {
            "text/plain": [
              "<Figure size 432x288 with 1 Axes>"
            ],
            "image/png": "[encoded data removed]"
          },
          "metadata": {
            "needs_background": "light"
          }
        }
      ]
    },
    {
      "cell_type": "code",
      "source": [
        "ones = np.ones((np_salary.shape[0], 1))\n",
        "salary = pd.DataFrame(data = {'salary': salary1})\n",
        "# salary.shape()\n",
        "salary = np.hstack((ones, salary))\n",
        "# salary\n",
        "scoring = pd.DataFrame(data = {'scoring': scoring1})"
      ],
      "metadata": {
        "id": "tSuvrEAExT3s"
      },
      "execution_count": null,
      "outputs": []
    },
    {
      "cell_type": "code",
      "source": [
        "XTX = salary.T.dot(salary)\n",
        "np.linalg.det(XTX)\n",
        "\n",
        "# 349464.00000000023"
      ],
      "metadata": {
        "colab": {
          "base_uri": "https://localhost:8080/"
        },
        "id": "1jA4k-p5bEdV",
        "outputId": "2376068e-7bae-4dd0-e733-671bf5f5c996"
      },
      "execution_count": null,
      "outputs": [
        {
          "output_type": "execute_result",
          "data": {
            "text/plain": [
              "349464.00000000023"
            ]
          },
          "metadata": {},
          "execution_count": 73
        }
      ]
    },
    {
      "cell_type": "markdown",
      "source": [
        "Определитель не близок к нулю, поэтому можно записать аналитическое решение:"
      ],
      "metadata": {
        "id": "0n6fhWPVb2f2"
      }
    },
    {
      "cell_type": "code",
      "source": [
        "XTX_inv = np.linalg.inv(XTX)\n",
        "b = XTX_inv.dot(salary.T).dot(scoring)\n",
        "print(b)\n",
        "\n",
        "# результат совпадает с предыдущим"
      ],
      "metadata": {
        "colab": {
          "base_uri": "https://localhost:8080/"
        },
        "id": "sMyzlkSNbRvP",
        "outputId": "f17c7aa5-235f-4f76-9f71-16cf9a1af9e1"
      },
      "execution_count": null,
      "outputs": [
        {
          "output_type": "stream",
          "name": "stdout",
          "text": [
            "[[444.17735732]\n",
            " [  2.62053888]]\n"
          ]
        }
      ]
    },
    {
      "cell_type": "markdown",
      "source": [
        "Рассчиаем коэффициент детерминации.\n",
        "\n",
        "В случае парной регрессии значение коэффициента детерминации сводится к корреляции между переменными $x$ и $y$:\n",
        "\n",
        "$$R^2 = r_{xy}^2.$$\n"
      ],
      "metadata": {
        "id": "YNXQNkwmdMb1"
      }
    },
    {
      "cell_type": "code",
      "source": [
        "R2 = np.corrcoef(np_salary, np_scoring) ** 2\n",
        "# R2 = 0.7876"
      ],
      "metadata": {
        "id": "FRPrShKsdSEP"
      },
      "execution_count": null,
      "outputs": []
    },
    {
      "cell_type": "code",
      "source": [
        "# средняя ошибка аппроксимации\n",
        "def mean_approximation_error(y_real, y_pred):\n",
        "    return np.abs((y_real - y_pred) / y_real).mean()"
      ],
      "metadata": {
        "id": "3IoSvrxSe1Wr"
      },
      "execution_count": null,
      "outputs": []
    },
    {
      "cell_type": "code",
      "source": [
        "# создаем массив предсказанных по модели значений\n",
        "z1 = b0 + b1 * np_salary\n",
        "\n",
        "print(f'real: {np_scoring[:5]}')\n",
        "print(f'pred: {z1[:5]}')"
      ],
      "metadata": {
        "colab": {
          "base_uri": "https://localhost:8080/"
        },
        "id": "abehjKMfgF6I",
        "outputId": "677bd122-0fe5-4e28-a1c7-6a03f0530c2b"
      },
      "execution_count": null,
      "outputs": [
        {
          "output_type": "stream",
          "name": "stdout",
          "text": [
            "real: [401 574 874 919 459]\n",
            "pred: [535.89621821 562.10160703 942.07974498 968.2851338  548.99891262]\n"
          ]
        }
      ]
    },
    {
      "cell_type": "code",
      "source": [
        "mean_approximation_error(np_scoring, z1)\n",
        "# 0.11469251843561709"
      ],
      "metadata": {
        "colab": {
          "base_uri": "https://localhost:8080/"
        },
        "id": "ImGv4xv_hIcP",
        "outputId": "059639fb-902a-4972-b329-47c06bb678d7"
      },
      "execution_count": null,
      "outputs": [
        {
          "output_type": "execute_result",
          "data": {
            "text/plain": [
              "0.11469251843561709"
            ]
          },
          "metadata": {},
          "execution_count": 78
        }
      ]
    },
    {
      "cell_type": "markdown",
      "source": [
        "\n",
        "Чтобы оценить статистическую значимость уравнения линейной регрессии в целом, используется __F-критерий Фишера__. Соответствующая статистика равна\n",
        "\n",
        "$$T = \\dfrac{R^2}{1 - R^2} \\cdot \\dfrac{n - k - 1}{k},$$\n",
        "\n",
        "где $R^2$ — коэффициент детерминации, $n$ — число наблюдений, $k$ — число факторов. В литературе часто используются обозначения $k_1 = k$, $k_2 = n - k - 1$. Иногда вместо $k_1$, $k_2$ пишутся $f_1$, $f_2$.\n",
        "\n",
        "По таблице (например, по [такой](https://www.chem-astu.ru/science/reference/F-statistic.html)) вычисляется критическое значение $F_{сrit} = F(k_1, k_2)$. Это же значение вычисляется по функции `scipy.stats.f.ppf`.\n",
        "\n",
        "Если $T > F_{crit}$, то уравнение регрессии признаётся статистически значимым."
      ],
      "metadata": {
        "id": "NBlMaXChjLLk"
      }
    },
    {
      "cell_type": "code",
      "source": [
        "# определем статистику\n",
        "R2 = 0.78763866\n",
        "n = salary.shape[0]\n",
        "k = 2\n",
        "k1 = k\n",
        "k2 = n - k - 1\n",
        "\n",
        "T = (R2 / (1 - R2)) * (k2 / k1)\n",
        "T"
      ],
      "metadata": {
        "colab": {
          "base_uri": "https://localhost:8080/"
        },
        "id": "tofczLEijOng",
        "outputId": "930ae985-1a3c-43ce-ab3a-5b36a1b239df"
      },
      "execution_count": null,
      "outputs": [
        {
          "output_type": "execute_result",
          "data": {
            "text/plain": [
              "12.981342602189272"
            ]
          },
          "metadata": {},
          "execution_count": 79
        }
      ]
    },
    {
      "cell_type": "code",
      "source": [
        "alpha = 0.05\n",
        "\n",
        "F_crit = stats.f.ppf(1 - alpha, k1, k2)\n",
        "F_crit"
      ],
      "metadata": {
        "colab": {
          "base_uri": "https://localhost:8080/"
        },
        "id": "HRz5T-axkvBG",
        "outputId": "4bdbd314-0256-42a8-aee6-d1e4f08314cf"
      },
      "execution_count": null,
      "outputs": [
        {
          "output_type": "execute_result",
          "data": {
            "text/plain": [
              "4.73741412777588"
            ]
          },
          "metadata": {},
          "execution_count": 80
        }
      ]
    },
    {
      "cell_type": "markdown",
      "source": [
        "Т (12,98) > F (4.74)\n",
        "\n",
        "следовательно, уравнение регрессии статистически значимо"
      ],
      "metadata": {
        "id": "0NfKli6MlYyB"
      }
    },
    {
      "cell_type": "markdown",
      "source": [
        "Найдем доверительный интервал для коэффициента наклона b1"
      ],
      "metadata": {
        "id": "VbIHQ3gbm2Gg"
      }
    },
    {
      "cell_type": "code",
      "source": [
        "def standard_error_slope(x, y, z):\n",
        "    n = x.shape[0]\n",
        "    \n",
        "    upper = ((y - z) ** 2).sum() / (n - 2)\n",
        "    lower = ((x - x.mean()) ** 2).sum()\n",
        "    \n",
        "    return np.sqrt(upper / lower)"
      ],
      "metadata": {
        "id": "0wF51A2Gmsrn"
      },
      "execution_count": null,
      "outputs": []
    },
    {
      "cell_type": "code",
      "source": [
        "s_slope = standard_error_slope(np_salary, np_scoring, z1)\n",
        "s_slope"
      ],
      "metadata": {
        "colab": {
          "base_uri": "https://localhost:8080/"
        },
        "id": "mzW-5AV1nDUg",
        "outputId": "d38860bb-8f9d-4303-d82d-77194cebdaa5"
      },
      "execution_count": null,
      "outputs": [
        {
          "output_type": "execute_result",
          "data": {
            "text/plain": [
              "0.48108279568516005"
            ]
          },
          "metadata": {},
          "execution_count": 82
        }
      ]
    },
    {
      "cell_type": "markdown",
      "source": [
        "Доверительный интервал для параметра $b_1$:"
      ],
      "metadata": {
        "id": "z6bG59xooQnP"
      }
    },
    {
      "cell_type": "code",
      "source": [
        "t = 2.2281\n",
        "\n",
        "(b1 - t * s_slope, b1 + t * s_slope)"
      ],
      "metadata": {
        "colab": {
          "base_uri": "https://localhost:8080/"
        },
        "id": "nWDfpNGrnU9V",
        "outputId": "0a23bbca-f1cc-4966-9f4f-d3c167bdb5c1"
      },
      "execution_count": null,
      "outputs": [
        {
          "output_type": "execute_result",
          "data": {
            "text/plain": [
              "(1.54863830533666, 3.69243945946887)"
            ]
          },
          "metadata": {},
          "execution_count": 84
        }
      ]
    },
    {
      "cell_type": "markdown",
      "source": [
        "Аналогично для параметра $b_0$:"
      ],
      "metadata": {
        "id": "m6ZXOKnMnuoM"
      }
    },
    {
      "cell_type": "code",
      "source": [
        "def standard_error_intercept(x, y, z):\n",
        "    return standard_error_slope(x, y, z) * np.sqrt((x ** 2).mean())"
      ],
      "metadata": {
        "id": "GZPyVuTsnwpD"
      },
      "execution_count": null,
      "outputs": []
    },
    {
      "cell_type": "code",
      "source": [],
      "metadata": {
        "id": "cecOg0_EoUL6"
      },
      "execution_count": null,
      "outputs": []
    },
    {
      "cell_type": "code",
      "source": [
        "s_intercept = standard_error_intercept(np_salary, np_scoring, z1)\n",
        "s_intercept"
      ],
      "metadata": {
        "colab": {
          "base_uri": "https://localhost:8080/"
        },
        "id": "-VZJA15zn17w",
        "outputId": "299295bd-fe2f-4db1-b564-7ac11856eb3e"
      },
      "execution_count": null,
      "outputs": [
        {
          "output_type": "execute_result",
          "data": {
            "text/plain": [
              "56.46649755068153"
            ]
          },
          "metadata": {},
          "execution_count": 86
        }
      ]
    },
    {
      "cell_type": "markdown",
      "source": [
        "Доверительный интервал для параметра $b_0$:"
      ],
      "metadata": {
        "id": "7tKPw_Iun-R3"
      }
    },
    {
      "cell_type": "code",
      "source": [
        "(b0 - t * s_intercept, b0 + t * s_intercept)"
      ],
      "metadata": {
        "colab": {
          "base_uri": "https://localhost:8080/"
        },
        "id": "BLNEmb-gn_Zi",
        "outputId": "68e8b51c-5439-4865-a951-1bf2b774655f"
      },
      "execution_count": null,
      "outputs": [
        {
          "output_type": "execute_result",
          "data": {
            "text/plain": [
              "(318.36435413168607, 569.9903605170331)"
            ]
          },
          "metadata": {},
          "execution_count": 87
        }
      ]
    },
    {
      "cell_type": "markdown",
      "source": [
        "# Задача 2\n",
        "\n",
        "В каких случаях для вычисления доверительных интервалов и проверки статистических гипотез используется таблица значений функции Лапласа, а когда — таблица квантилей распределения Стьюдента?"
      ],
      "metadata": {
        "id": "AY_NKTVzuspF"
      }
    },
    {
      "cell_type": "markdown",
      "source": [
        "Таблица значений функции Лапласа - для нахождения вероятности того, что случайная величина примет значение, принадлежащее заданному интервалу."
      ],
      "metadata": {
        "id": "_9VIDpmPpsAc"
      }
    },
    {
      "cell_type": "markdown",
      "source": [
        "Таблица квантилей распределения Стьюдента - применяется в задачах, связанных с оценкой математического ожидания нормально распределенных случайных величин в условиях, когда объем выборки не велик, а также значимости различия средних двух выборок."
      ],
      "metadata": {
        "id": "l8j5XkPHpy7j"
      }
    }
  ]
}