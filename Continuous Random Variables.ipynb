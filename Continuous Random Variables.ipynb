{
  "nbformat": 4,
  "nbformat_minor": 0,
  "metadata": {
    "colab": {
      "provenance": [],
      "mount_file_id": "103nXeykzYVPgdOfbFRv1WuAQwjYcm7wo",
      "authorship_tag": "ABX9TyMWn51oWEBqmimz7BM9u6ea",
      "include_colab_link": true
    },
    "kernelspec": {
      "name": "python3",
      "display_name": "Python 3"
    },
    "language_info": {
      "name": "python"
    }
  },
  "cells": [
    {
      "cell_type": "markdown",
      "metadata": {
        "id": "view-in-github",
        "colab_type": "text"
      },
      "source": [
        "<a href=\"https://colab.research.google.com/github/OllyMuh/Probability-Statistics/blob/main/Continuous%20Random%20Variables.ipynb\" target=\"_parent\"><img src=\"https://colab.research.google.com/assets/colab-badge.svg\" alt=\"Open In Colab\"/></a>"
      ]
    },
    {
      "cell_type": "code",
      "source": [
        "import numpy as np"
      ],
      "metadata": {
        "id": "NAy8uKbCSVtt"
      },
      "execution_count": null,
      "outputs": []
    },
    {
      "cell_type": "markdown",
      "source": [
        "# Задача 1\n",
        "\n",
        "О непрерывной равномерно распределённой случайной величине B известно, что её дисперсия равна 0.2. Можно ли найти правую границу величины B и её среднее значение, зная, что левая граница равна 0.5? Если да, найдите её."
      ],
      "metadata": {
        "id": "kHXZaqZYQKRe"
      }
    },
    {
      "cell_type": "markdown",
      "source": [
        "формула дисперсии: $$D(X) = \\frac{(b - a)^2}{12}$$"
      ],
      "metadata": {
        "id": "XTOmxTtSRNSo"
      }
    },
    {
      "cell_type": "markdown",
      "source": [
        "D(X) = 0.2"
      ],
      "metadata": {
        "id": "NBzFr8QnRpdr"
      }
    },
    {
      "cell_type": "markdown",
      "source": [
        "$$0.2 = \\frac{(b - 0.5)^2}{12}$$"
      ],
      "metadata": {
        "id": "QxguA_jgSHPV"
      }
    },
    {
      "cell_type": "code",
      "source": [
        "a = 0.5\n",
        "# выразим b\n",
        "b = np.sqrt(0.2 * 12) + 0.5\n",
        "b"
      ],
      "metadata": {
        "colab": {
          "base_uri": "https://localhost:8080/"
        },
        "id": "eGkeqH07SGz5",
        "outputId": "712bcf2d-4bc6-4323-e71e-af55b8825648"
      },
      "execution_count": null,
      "outputs": [
        {
          "output_type": "execute_result",
          "data": {
            "text/plain": [
              "2.049193338482967"
            ]
          },
          "metadata": {},
          "execution_count": 4
        }
      ]
    },
    {
      "cell_type": "markdown",
      "source": [
        "Рассчитаем среднее значение  по формуле математического ожидания:\n",
        "\n",
        "$$M(X) = \\frac{a + b}{2}$$"
      ],
      "metadata": {
        "id": "wI7mXq8eRfSO"
      }
    },
    {
      "cell_type": "code",
      "source": [
        "M_B = (a+b) / 2\n",
        "M_B"
      ],
      "metadata": {
        "colab": {
          "base_uri": "https://localhost:8080/"
        },
        "id": "oyY_bP5yS7f1",
        "outputId": "01b8c9c7-02f0-486e-c085-19dee83cec6f"
      },
      "execution_count": null,
      "outputs": [
        {
          "output_type": "execute_result",
          "data": {
            "text/plain": [
              "1.2745966692414834"
            ]
          },
          "metadata": {},
          "execution_count": 6
        }
      ]
    },
    {
      "cell_type": "markdown",
      "source": [
        "# Задача 2\n",
        "\n",
        "На сколько сигм (средних квадратических отклонений) отклоняется рост человека, равный 190 см, от математического ожидания роста в популяции, где M(X) = 178 и D(X) = 25?"
      ],
      "metadata": {
        "id": "ZqBTiEX9TrMM"
      }
    },
    {
      "cell_type": "code",
      "source": [
        "# рассчитаем разницу заданного роста от среднего значения\n",
        "delta = 190 - 178\n",
        "delta"
      ],
      "metadata": {
        "colab": {
          "base_uri": "https://localhost:8080/"
        },
        "id": "yxZ56PIGRfBZ",
        "outputId": "96331b5d-4225-4dc6-f5a2-2b74c21fe9b2"
      },
      "execution_count": null,
      "outputs": [
        {
          "output_type": "execute_result",
          "data": {
            "text/plain": [
              "12"
            ]
          },
          "metadata": {},
          "execution_count": 7
        }
      ]
    },
    {
      "cell_type": "markdown",
      "source": [
        "$$\\sigma^2 = D(X), значит, \\sigma = \\sqrt{D(X)}$$"
      ],
      "metadata": {
        "id": "ysXPdoqlUUck"
      }
    },
    {
      "cell_type": "code",
      "source": [
        "sigma = np.sqrt(25)\n",
        "sigma"
      ],
      "metadata": {
        "colab": {
          "base_uri": "https://localhost:8080/"
        },
        "id": "JaCPjyhFQRnh",
        "outputId": "0c5857e5-c91e-4129-d8ee-cfdfa4a296b6"
      },
      "execution_count": null,
      "outputs": [
        {
          "output_type": "execute_result",
          "data": {
            "text/plain": [
              "5.0"
            ]
          },
          "metadata": {},
          "execution_count": 8
        }
      ]
    },
    {
      "cell_type": "code",
      "source": [
        "# рассчитаем количество сигм\n",
        "n_sigm = delta / sigma\n",
        "n_sigm"
      ],
      "metadata": {
        "colab": {
          "base_uri": "https://localhost:8080/"
        },
        "id": "axa6czEbVFuA",
        "outputId": "262d5c76-2e33-47b7-8839-617e39148842"
      },
      "execution_count": null,
      "outputs": [
        {
          "output_type": "execute_result",
          "data": {
            "text/plain": [
              "2.4"
            ]
          },
          "metadata": {},
          "execution_count": 9
        }
      ]
    },
    {
      "cell_type": "markdown",
      "source": [
        "# Задача 3\n",
        "\n",
        "Рост взрослого населения города X имеет нормальное распределение, причём средний рост равен 174 см, а среднее квадратическое отклонение равно 8 см. Без использования сторонних библиотек — numpy, scipy, pandas и прочих — посчитайте, какова вероятность, что случайным образом выбранный взрослый человек имеет рост:\n",
        "\n",
        "1. Больше 182 см.\n",
        "2. Больше 190 см.\n",
        "3. От 166 см до 190 см.\n",
        "4. От 166 см до 182 см.\n",
        "5. От 158 см до 190 см.\n",
        "6. Не выше 150 см или не ниже 190 см.\n",
        "7. Не выше 150 см или не ниже 198 см.\n",
        "8. Ниже 166 см?"
      ],
      "metadata": {
        "id": "GZW_QSKaV81W"
      }
    },
    {
      "cell_type": "code",
      "source": [
        "mx = 174\n",
        "scale = 8"
      ],
      "metadata": {
        "id": "guYYebKzMK7H"
      },
      "execution_count": null,
      "outputs": []
    },
    {
      "cell_type": "code",
      "source": [
        "sigma = np.array([mx-3*scale, mx-2*scale, mx-scale, mx, mx+scale, mx+2*scale, mx+3*scale])\n",
        "sigma"
      ],
      "metadata": {
        "colab": {
          "base_uri": "https://localhost:8080/"
        },
        "id": "8RfR_LyYMqbR",
        "outputId": "08140404-60b6-45bf-8dbb-c76fc167c032"
      },
      "execution_count": null,
      "outputs": [
        {
          "output_type": "execute_result",
          "data": {
            "text/plain": [
              "array([150, 158, 166, 174, 182, 190, 198])"
            ]
          },
          "metadata": {},
          "execution_count": 4
        }
      ]
    },
    {
      "cell_type": "code",
      "source": [
        "sigma = np.sqrt(8)\n",
        "sigma"
      ],
      "metadata": {
        "colab": {
          "base_uri": "https://localhost:8080/"
        },
        "id": "-_0CMSspa_zo",
        "outputId": "90e0f1d2-bbc4-40c9-cc5c-70b2abae9740"
      },
      "execution_count": null,
      "outputs": [
        {
          "output_type": "execute_result",
          "data": {
            "text/plain": [
              "2.8284271247461903"
            ]
          },
          "metadata": {},
          "execution_count": 10
        }
      ]
    },
    {
      "cell_type": "markdown",
      "source": [
        "1. Больше 182 см и ниже 166 см."
      ],
      "metadata": {
        "id": "Ft9ubwSMn-fw"
      }
    },
    {
      "cell_type": "code",
      "source": [
        "round((1-0.5-0.68/2), 3)"
      ],
      "metadata": {
        "colab": {
          "base_uri": "https://localhost:8080/"
        },
        "id": "xT0Lf_xTohTg",
        "outputId": "9eaa37c0-b9fa-4f74-ecb4-c1b4442eb4cc"
      },
      "execution_count": null,
      "outputs": [
        {
          "output_type": "execute_result",
          "data": {
            "text/plain": [
              "0.16"
            ]
          },
          "metadata": {},
          "execution_count": 5
        }
      ]
    },
    {
      "cell_type": "markdown",
      "source": [
        "2. Больше 190 см."
      ],
      "metadata": {
        "id": "jK94-5sNrasV"
      }
    },
    {
      "cell_type": "code",
      "source": [
        "round((1-0.5-0.95/2), 3)"
      ],
      "metadata": {
        "colab": {
          "base_uri": "https://localhost:8080/"
        },
        "outputId": "6b904647-bec0-44a4-c49f-1f0d55e31ef7",
        "id": "A5eai6sErnPo"
      },
      "execution_count": null,
      "outputs": [
        {
          "output_type": "execute_result",
          "data": {
            "text/plain": [
              "0.025"
            ]
          },
          "metadata": {},
          "execution_count": 6
        }
      ]
    },
    {
      "cell_type": "markdown",
      "source": [
        "если честно, ничего не понятно. Почему 0,5, почему 0,68/2 и 0,95/2 ????"
      ],
      "metadata": {
        "id": "pl8v5M8wQAYS"
      }
    }
  ]
}